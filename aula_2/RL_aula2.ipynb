{
 "cells": [
  {
   "cell_type": "code",
   "execution_count": 4,
   "id": "4f99ff84-5ddb-4700-a2e5-801bae8ad187",
   "metadata": {},
   "outputs": [],
   "source": [
    "import tensorflow as tf\n",
    "import pandas as pd\n",
    "import numpy as np\n",
    "import matplotlib.pyplot as plt"
   ]
  },
  {
   "cell_type": "markdown",
   "id": "1a16fb32-e13a-419e-89e4-43ea63939a08",
   "metadata": {},
   "source": [
    "## 1) Using tf functions"
   ]
  },
  {
   "cell_type": "code",
   "execution_count": 33,
   "id": "69338c72-7990-439d-8110-00db6e967994",
   "metadata": {},
   "outputs": [],
   "source": [
    "# Creating variables\n",
    "x = tf.Variable(10, dtype=tf.float64)"
   ]
  },
  {
   "cell_type": "code",
   "execution_count": 34,
   "id": "b6b1ca8f-c790-4459-8314-916be19fb7e8",
   "metadata": {},
   "outputs": [],
   "source": [
    "# Function\n",
    "y = x ** 2\n",
    "delta = 0.2"
   ]
  },
  {
   "cell_type": "code",
   "execution_count": 35,
   "id": "b4880899-2e89-4e0a-9521-809883b58f55",
   "metadata": {},
   "outputs": [
    {
     "data": {
      "text/plain": [
       "<tf.Variable 'UnreadVariable' shape=() dtype=float64, numpy=10.2>"
      ]
     },
     "execution_count": 35,
     "metadata": {},
     "output_type": "execute_result"
    }
   ],
   "source": [
    "# Add to variables\n",
    "x.assign_add(delta)"
   ]
  },
  {
   "cell_type": "code",
   "execution_count": 36,
   "id": "2a88a108-b3eb-41e8-852d-1ad2a75c82c9",
   "metadata": {},
   "outputs": [],
   "source": [
    "for i in range(10):\n",
    "    x.assign_add(delta)"
   ]
  },
  {
   "cell_type": "code",
   "execution_count": 37,
   "id": "8c1da1cc-249c-490e-8968-4d8ab4c346a9",
   "metadata": {},
   "outputs": [
    {
     "data": {
      "text/plain": [
       "<tf.Variable 'Variable:0' shape=() dtype=float64, numpy=12.199999999999992>"
      ]
     },
     "execution_count": 37,
     "metadata": {},
     "output_type": "execute_result"
    }
   ],
   "source": [
    "x"
   ]
  },
  {
   "cell_type": "markdown",
   "id": "d98a9290-2501-4eb5-a32f-c911d7ce295e",
   "metadata": {},
   "source": [
    "## 2) Gradient Descent"
   ]
  },
  {
   "cell_type": "code",
   "execution_count": 67,
   "id": "093d6c9c-3dbe-4c19-a90c-388e29e0efb3",
   "metadata": {},
   "outputs": [],
   "source": [
    "x = tf.Variable(40.0, dtype=tf.float64)\n",
    "def quadratic_function(x):\n",
    "    return x * x"
   ]
  },
  {
   "cell_type": "code",
   "execution_count": 148,
   "id": "4cd1f813-55e6-4eec-8199-3cc387a88bbe",
   "metadata": {},
   "outputs": [],
   "source": [
    "alpha = 0.001\n",
    "epochs = 1000"
   ]
  },
  {
   "cell_type": "code",
   "execution_count": 140,
   "id": "cdcaf53b-c4cf-4318-a4fd-8be70e9beff9",
   "metadata": {},
   "outputs": [
    {
     "data": {
      "text/plain": [
       "<tf.Variable 'Variable:0' shape=() dtype=float64, numpy=-2.9999999147689316>"
      ]
     },
     "execution_count": 140,
     "metadata": {},
     "output_type": "execute_result"
    }
   ],
   "source": [
    "x"
   ]
  },
  {
   "cell_type": "code",
   "execution_count": 141,
   "id": "fb406c19-4a8b-4808-8508-064b8b840ddd",
   "metadata": {},
   "outputs": [
    {
     "data": {
      "text/plain": [
       "<tf.Tensor: shape=(), dtype=float64, numpy=-5.999999829537863>"
      ]
     },
     "execution_count": 141,
     "metadata": {},
     "output_type": "execute_result"
    }
   ],
   "source": [
    "with tf.GradientTape() as tape:\n",
    "    y = quadratic_function(x)\n",
    "tape.gradient(y, x)"
   ]
  },
  {
   "cell_type": "code",
   "execution_count": 142,
   "id": "c316dcd6-1449-4714-9178-12371a354297",
   "metadata": {
    "tags": []
   },
   "outputs": [],
   "source": [
    "for i in range(epochs):\n",
    "    with tf.GradientTape() as tape:\n",
    "        y = quadratic_function(x)\n",
    "    g = tape.gradient(y, x)\n",
    "    x.assign_add(-alpha * g)"
   ]
  },
  {
   "cell_type": "code",
   "execution_count": 143,
   "id": "569c98e6-1b0d-4310-a469-42aea5ef8557",
   "metadata": {},
   "outputs": [
    {
     "data": {
      "text/plain": [
       "<tf.Variable 'Variable:0' shape=() dtype=float64, numpy=-5.048901928206776e-09>"
      ]
     },
     "execution_count": 143,
     "metadata": {},
     "output_type": "execute_result"
    }
   ],
   "source": [
    "x"
   ]
  },
  {
   "cell_type": "code",
   "execution_count": 165,
   "id": "da8cdcf5-8369-407a-852c-5ce5c6495b2d",
   "metadata": {},
   "outputs": [],
   "source": [
    "alpha = 0.005\n",
    "epochs = 2000"
   ]
  },
  {
   "cell_type": "code",
   "execution_count": 174,
   "id": "7ec1241a-c8e9-4448-965a-c0c46e9caa82",
   "metadata": {},
   "outputs": [],
   "source": [
    "# Multivariables\n",
    "x = tf.Variable(10.0, dtype=tf.float64)\n",
    "y = tf.Variable(10.0, dtype=tf.float64)\n",
    "def f(x, y):\n",
    "    return ((x + 3) * (x + 3)) + ((y + 3) * (y + 3)) + 3"
   ]
  },
  {
   "cell_type": "code",
   "execution_count": 175,
   "id": "7d0c71ca-411a-49b8-9f4e-a95dc8425a1a",
   "metadata": {},
   "outputs": [
    {
     "data": {
      "text/plain": [
       "[<tf.Tensor: shape=(), dtype=float64, numpy=26.0>,\n",
       " <tf.Tensor: shape=(), dtype=float64, numpy=26.0>]"
      ]
     },
     "execution_count": 175,
     "metadata": {},
     "output_type": "execute_result"
    }
   ],
   "source": [
    "with tf.GradientTape(persistent=True) as tape:\n",
    "    z = f(x, y)\n",
    "    theta = [x, y]\n",
    "tape.gradient(z, theta)"
   ]
  },
  {
   "cell_type": "code",
   "execution_count": 176,
   "id": "e6826d0e-588c-440f-bea3-1025a23bae33",
   "metadata": {},
   "outputs": [],
   "source": [
    "# Optimization\n",
    "for i in range(epochs):\n",
    "    with tf.GradientTape() as tape:\n",
    "        z = f(x, y)\n",
    "    theta = [x, y]\n",
    "    g = tape.gradient(z, theta)\n",
    "    x.assign_add(-alpha * g[0])\n",
    "    y.assign_add(-alpha * g[1])"
   ]
  },
  {
   "cell_type": "code",
   "execution_count": 177,
   "id": "4bfdfe38-46f4-434a-a460-68eb2c14a7c1",
   "metadata": {},
   "outputs": [
    {
     "data": {
      "text/plain": [
       "[<tf.Variable 'Variable:0' shape=() dtype=float64, numpy=-2.999999975771166>,\n",
       " <tf.Variable 'Variable:0' shape=() dtype=float64, numpy=-2.999999975771166>]"
      ]
     },
     "execution_count": 177,
     "metadata": {},
     "output_type": "execute_result"
    }
   ],
   "source": [
    "theta"
   ]
  },
  {
   "cell_type": "code",
   "execution_count": 178,
   "id": "ead221e7-e694-4248-a2ef-a8c5e54c7fb1",
   "metadata": {},
   "outputs": [],
   "source": [
    "# using tf optimizer "
   ]
  },
  {
   "cell_type": "code",
   "execution_count": 184,
   "id": "f31939aa-0ad8-422b-a278-2d17330f143e",
   "metadata": {},
   "outputs": [
    {
     "name": "stdout",
     "output_type": "stream",
     "text": [
      "Valor final de x: -2.9999995\n",
      "Valor final de y: -2.9999995\n"
     ]
    }
   ],
   "source": [
    "# Define as variáveis da função\n",
    "x = tf.Variable(0.0, name='x')\n",
    "y = tf.Variable(0.0, name='y')\n",
    "\n",
    "# Define a função a ser otimizada\n",
    "def quadratic_function(x, y):\n",
    "    return (x + 3)**2 + (y + 3)**2\n",
    "\n",
    "# Define a taxa de aprendizado e o número de iterações\n",
    "learning_rate = 0.1\n",
    "num_iterations = 100\n",
    "\n",
    "# Define o otimizador\n",
    "optimizer = tf.optimizers.SGD(learning_rate=learning_rate)\n",
    "\n",
    "# Executa as iterações de otimização\n",
    "for i in range(num_iterations):\n",
    "    with tf.GradientTape() as tape:\n",
    "        # Avalia a função nas variáveis x e y\n",
    "        z = quadratic_function(x, y)\n",
    "    # Calcula o gradiente da função em relação a x e y\n",
    "    gradients = tape.gradient(z, [x, y])\n",
    "    # Atualiza os valores de x e y usando o gradiente e a taxa de aprendizado\n",
    "    optimizer.apply_gradients(zip(gradients, [x, y]))\n",
    "\n",
    "# Imprime o valor final de x e y\n",
    "print('Valor final de x:', x.numpy())\n",
    "print('Valor final de y:', y.numpy())"
   ]
  },
  {
   "cell_type": "code",
   "execution_count": null,
   "id": "540afea9-fab7-44de-a2ed-d173970c527e",
   "metadata": {},
   "outputs": [],
   "source": []
  }
 ],
 "metadata": {
  "kernelspec": {
   "display_name": "tf",
   "language": "python",
   "name": "tf"
  },
  "language_info": {
   "codemirror_mode": {
    "name": "ipython",
    "version": 3
   },
   "file_extension": ".py",
   "mimetype": "text/x-python",
   "name": "python",
   "nbconvert_exporter": "python",
   "pygments_lexer": "ipython3",
   "version": "3.8.0"
  }
 },
 "nbformat": 4,
 "nbformat_minor": 5
}
